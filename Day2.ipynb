{
 "cells": [
  {
   "cell_type": "code",
   "execution_count": 2,
   "metadata": {},
   "outputs": [
    {
     "name": "stdout",
     "output_type": "stream",
     "text": [
      "Put in the number of the year: 2016\n",
      "True\n"
     ]
    }
   ],
   "source": [
    "year = int (input('Put in the number of the year: '))\n",
    "is_year = (year % 4 == 0 and year % 100!=0 or year%400 == 0)\n",
    "print(is_year)"
   ]
  },
  {
   "cell_type": "code",
   "execution_count": 5,
   "metadata": {},
   "outputs": [
    {
     "name": "stdout",
     "output_type": "stream",
     "text": [
      "Input the celsius degree:   23\n",
      "73.4\n"
     ]
    }
   ],
   "source": [
    "c_degree = float(input('Input the celsius degree:   '))\n",
    "f_degree = 1.8 * c_degree + 32\n",
    "print(f_degree)"
   ]
  },
  {
   "cell_type": "markdown",
   "metadata": {},
   "source": [
    "# "
   ]
  },
  {
   "cell_type": "code",
   "execution_count": 12,
   "metadata": {},
   "outputs": [
    {
     "name": "stdout",
     "output_type": "stream",
     "text": [
      "Input the radius:   5\n",
      "周长:31.416\n"
     ]
    }
   ],
   "source": [
    "import math\n",
    "radius = float(input('Input the radius:   '))\n",
    "zhouchang = 2*math.pi*radius\n",
    "area = math.pi * radius *radius\n",
    "print ('周长:%.3f'%zhouchang)"
   ]
  },
  {
   "cell_type": "code",
   "execution_count": 15,
   "metadata": {},
   "outputs": [
    {
     "name": "stdout",
     "output_type": "stream",
     "text": [
      "Input 华氏度：32\n",
      "32.0华氏度 = 0.0摄氏度\n"
     ]
    }
   ],
   "source": [
    "f_degree = float(input('Input 华氏度：'))\n",
    "c_degree = (f_degree-32)/1.8\n",
    "print('%.1f华氏度 = %.1f摄氏度' % (f_degree,c_degree))"
   ]
  },
  {
   "cell_type": "code",
   "execution_count": null,
   "metadata": {},
   "outputs": [],
   "source": []
  }
 ],
 "metadata": {
  "kernelspec": {
   "display_name": "Python 3",
   "language": "python",
   "name": "python3"
  },
  "language_info": {
   "codemirror_mode": {
    "name": "ipython",
    "version": 3
   },
   "file_extension": ".py",
   "mimetype": "text/x-python",
   "name": "python",
   "nbconvert_exporter": "python",
   "pygments_lexer": "ipython3",
   "version": "3.6.5"
  }
 },
 "nbformat": 4,
 "nbformat_minor": 2
}
